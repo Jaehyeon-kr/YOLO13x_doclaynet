{
 "cells": [
  {
   "cell_type": "code",
   "execution_count": null,
   "id": "1e41dc3c",
   "metadata": {},
   "outputs": [],
   "source": [
    "!git clone https://github.com/iMoonLab/yolov13.git\n",
    "\n",
    "!git clone https://github.com/ultralytics/ultralytics.git "
   ]
  }
 ],
 "metadata": {
  "language_info": {
   "name": "python"
  }
 },
 "nbformat": 4,
 "nbformat_minor": 5
}
